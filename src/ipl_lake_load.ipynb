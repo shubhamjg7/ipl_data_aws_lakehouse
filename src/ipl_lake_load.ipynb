{
	"metadata": {
		"kernelspec": {
			"name": "glue_pyspark",
			"display_name": "Glue PySpark",
			"language": "python"
		},
		"language_info": {
			"name": "Python_Glue_Session",
			"mimetype": "text/x-python",
			"codemirror_mode": {
				"name": "python",
				"version": 3
			},
			"pygments_lexer": "python3",
			"file_extension": ".py"
		}
	},
	"nbformat_minor": 4,
	"nbformat": 4,
	"cells": [
		{
			"cell_type": "markdown",
			"source": "# Notebook to run lake ingestion from File(s3), RDS(MySql), NoSQL(DynamoDB)\n### This notebook will load lake tables player_info, matches, and deliveries",
			"metadata": {
				"editable": true,
				"trusted": true
			}
		},
		{
			"cell_type": "markdown",
			"source": "## Assumptions\n- Ideally we should be doing incremental loads fetching new data since the last lake load using watermark, but in this example we will doing full load everytime.",
			"metadata": {}
		},
		{
			"cell_type": "code",
			"source": "%idle_timeout 20\n%glue_version 3.0\n%worker_type G.1X\n%number_of_workers 2",
			"metadata": {
				"trusted": true
			},
			"execution_count": 6,
			"outputs": [
				{
					"name": "stdout",
					"text": "Current idle_timeout is 2800 minutes.\nidle_timeout has been set to 20 minutes.\nSetting Glue version to: 3.0\nPrevious worker type: G.1X\nSetting new worker type to: G.1X\nPrevious number of workers: 5\nSetting new number of workers to: 2\n",
					"output_type": "stream"
				}
			]
		},
		{
			"cell_type": "code",
			"source": "# Run this cell if you want to write data in delta lake format\n# %%configure\n# {\n#     \"--datalake-formats\":\"delta\",\n#     \"--conf\":\"spark.sql.extensions=io.delta.sql.DeltaSparkSessionExtension --conf spark.sql.catalog.spark_catalog=org.apache.spark.sql.delta.catalog.DeltaCatalog\"\n# }",
			"metadata": {
				"trusted": true
			},
			"execution_count": 7,
			"outputs": []
		},
		{
			"cell_type": "markdown",
			"source": "####  Run this cell to set up and start your interactive session.\n",
			"metadata": {
				"editable": true,
				"tags": [],
				"trusted": true
			}
		},
		{
			"cell_type": "code",
			"source": "import sys\nfrom awsglue.transforms import *\nfrom awsglue.utils import getResolvedOptions\nfrom pyspark.context import SparkContext\nfrom awsglue.context import GlueContext\nfrom awsglue.job import Job\n  \nsc = SparkContext.getOrCreate()\nglueContext = GlueContext(sc)\nspark = glueContext.spark_session\njob = Job(glueContext)",
			"metadata": {
				"editable": true,
				"trusted": true
			},
			"execution_count": 4,
			"outputs": [
				{
					"name": "stdout",
					"text": "\n",
					"output_type": "stream"
				}
			]
		},
		{
			"cell_type": "code",
			"source": "import boto3\n\n# Create a Glue client\nglue_client = boto3.client('glue')",
			"metadata": {
				"trusted": true
			},
			"execution_count": 5,
			"outputs": [
				{
					"name": "stdout",
					"text": "\n",
					"output_type": "stream"
				}
			]
		},
		{
			"cell_type": "markdown",
			"source": "### Variables",
			"metadata": {}
		},
		{
			"cell_type": "code",
			"source": "####################\n##### Change variables\n####################\n# Replace with your IAM role ARN to be used by crawler\ncrawler_role = 'arn:aws:iam::687003041478:role/orka-glue-role'\n\n# Change variable for MySQL deliveries source\nhost = 'mydbinstance.ctf19flbptnt.us-east-1.rds.amazonaws.com'\nport = 3306\nuser = 'admin'\npassword = 'MyPassword123'\nmssql_database = 'ipl'\nmssql_table='deliveries'\n\n# Change variables for s3 player info source\nplayer_info_input_file_s3_path = \"s3://iplcricketinfo/input_files/Players_info.csv\" # Change to the path where you have your Players_info.csv\n\n# Change variable for dynamodb matches source\nmacthes_dynamodb_table_name = \"MatchesTable\"\n\n# DB variables\nbronze_database_name = \"orka_warehouse_bronze\" # Specify the lake/bronze glue catalog database name\nbronze_database_loc = \"s3://iplcricketinfo/datalake/bronze\" # S3 location for bronze table\n\n# Target Player info table\nplayer_info_table_name = \"player_info\" # Specify player info target table name in lake\n# Target Deliveries table\ndeliveries_table_name = \"deliveries\"\n# Target matches table\nmatches_table_name = \"matches\"",
			"metadata": {
				"trusted": true
			},
			"execution_count": 6,
			"outputs": [
				{
					"name": "stdout",
					"text": "\n",
					"output_type": "stream"
				}
			]
		},
		{
			"cell_type": "markdown",
			"source": "### Utility functions",
			"metadata": {}
		},
		{
			"cell_type": "code",
			"source": "import boto3\n\n# Function to read data from MYSQL database\ndef read_from_mysql(host, port, user, password, database, table):\n    mysql_url = f\"jdbc:mysql://{host}:{port}\"\n    mysql_properties = {\n        \"user\": user,\n        \"password\": password,\n        \"driver\": \"com.mysql.jdbc.Driver\"\n    }\n\n    return spark.read \\\n        .format(\"jdbc\") \\\n        .option(\"url\", mysql_url) \\\n        .option(\"dbtable\", f\"{database}.{table}\") \\\n        .options(**mysql_properties) \\\n        .load()\n\n# Function to crawl data stored in lake\ndef crawl_tables(glue_client, df_dic, data_loc, database_name):\n    for table, data_df in df_dic.items():\n        crawler_name = f\"{table}_crwl\"\n        # Specify the S3 target for the crawler\n        s3_target_path = f\"{data_loc}/{table}\"\n\n        # Create the crawler\n        response = glue_client.create_crawler(\n            Name=crawler_name,\n            Role=crawler_role,\n            Targets={\n                'S3Targets': [\n                    {\n                        'Path': s3_target_path\n                    }\n                ]\n            },\n            DatabaseName= database_name,\n            SchemaChangePolicy={\n                'UpdateBehavior': 'UPDATE_IN_DATABASE',\n                'DeleteBehavior': 'DEPRECATE_IN_DATABASE'\n            }\n        )\n\n        # Start the crawler\n        glue_client.start_crawler(Name=crawler_name)\n\n\ndef read_from_dynamodb(table_name):\n    # Read data from the DynamoDB table\n    dynamodb_options = {\n        \"dynamodb.input.tableName\": table_name,\n        \"dynamodb.throughput.read.percent\": \"1.0\"\n    }\n    dynamic_frame = glueContext.create_dynamic_frame.from_options(\n        connection_type=\"dynamodb\",\n        connection_options=dynamodb_options\n    )\n\n    # Convert the dynamic frame to a Spark DataFrame and return\n    return dynamic_frame.toDF()",
			"metadata": {
				"trusted": true
			},
			"execution_count": 12,
			"outputs": [
				{
					"name": "stdout",
					"text": "\n",
					"output_type": "stream"
				}
			]
		},
		{
			"cell_type": "markdown",
			"source": "## Create database in catalog",
			"metadata": {}
		},
		{
			"cell_type": "code",
			"source": "# Create the database\nglue_client.create_database(\n    DatabaseInput={\n        'Name': database_name\n    }\n)",
			"metadata": {
				"trusted": true
			},
			"execution_count": 7,
			"outputs": [
				{
					"name": "stdout",
					"text": "{'ResponseMetadata': {'RequestId': '7c34261c-eced-4bcd-96ed-2191951b32ee', 'HTTPStatusCode': 200, 'HTTPHeaders': {'date': 'Sun, 09 Jul 2023 05:57:44 GMT', 'content-type': 'application/x-amz-json-1.1', 'content-length': '2', 'connection': 'keep-alive', 'x-amzn-requestid': '7c34261c-eced-4bcd-96ed-2191951b32ee'}, 'RetryAttempts': 0}}\n",
					"output_type": "stream"
				}
			]
		},
		{
			"cell_type": "markdown",
			"source": "# ********************************************************************\n# File ingestion example - Loading csv file in s3 to lake/silver layer\n# ********************************************************************",
			"metadata": {}
		},
		{
			"cell_type": "markdown",
			"source": "Ingesting table from s3 into df",
			"metadata": {}
		},
		{
			"cell_type": "code",
			"source": "# Created my own clean header from the csv\nplayer_info_header_clean = \"index,id,name,country,full_name,birthdate,birthplace,died,date_of_death,age,major_teams,batting_style,bowling_style,other,awards,batting_tests_mat,batting_tests_inns,batting_tests_no,batting_tests_runs,batting_tests_hs,batting_tests_ave,batting_tests_bf,batting_tests_sr,batting_tests_100,batting_tests_50,batting_tests_4s,batting_tests_6s,batting_tests_ct,batting_tests_st,batting_odis_mat,batting_odis_inns,batting_odis_no,batting_odis_runs,batting_odis_hs,batting_odis_ave,batting_odis_bf,batting_odis_sr,batting_odis_100,batting_odis_50,batting_odis_4s,batting_odis_6s,batting_odis_ct,batting_odis_st,batting_t20is_mat,batting_t20is_inns,batting_t20is_no,batting_t20is_runs,batting_t20is_hs,batting_t20is_ave,batting_t20is_bf,batting_t20is_sr,batting_t20is_100,batting_t20is_50,batting_t20is_4s,batting_t20is_6s,batting_t20is_ct,batting_t20is_st,batting_first_class_mat,batting_first_class_inns,batting_first_class_no,batting_first_class_runs,batting_first_class_hs,batting_first_class_ave,batting_first_class_bf,batting_first_class_sr,batting_first_class_100,batting_first_class_50,batting_first_class_4s,batting_first_class_6s,batting_first_class_ct,batting_first_class_st,batting_list_a_mat,batting_list_a_inns,batting_list_a_no,batting_list_a_runs,batting_list_a_hs,batting_list_a_ave,batting_list_a_bf,batting_list_a_sr,batting_list_a_100,batting_list_a_50,batting_list_a_4s,batting_list_a_6s,batting_list_a_ct,batting_list_a_st,batting_t20s_mat,batting_t20s_inns,batting_t20s_no,batting_t20s_runs,batting_t20s_hs,batting_t20s_ave,batting_t20s_bf,batting_t20s_sr,batting_t20s_100,batting_t20s_50,batting_t20s_4s,batting_t20s_6s,batting_t20s_ct,batting_t20s_st,bowling_tests_mat,bowling_tests_inns,bowling_tests_balls,bowling_tests_runs,bowling_tests_wkts,bowling_tests_bbi,bowling_tests_bbm,bowling_tests_ave,bowling_tests_econ,bowling_tests_sr,bowling_tests_4w,bowling_tests_5w,bowling_tests_10,bowling_odis_mat,bowling_odis_inns,bowling_odis_balls,bowling_odis_runs,bowling_odis_wkts,bowling_odis_bbi,bowling_odis_bbm,bowling_odis_ave,bowling_odis_econ,bowling_odis_sr,bowling_odis_4w,bowling_odis_5w,bowling_odis_10,bowling_t20is_mat,bowling_t20is_inns,bowling_t20is_balls,bowling_t20is_runs,bowling_t20is_wkts,bowling_t20is_bbi,bowling_t20is_bbm,bowling_t20is_ave,bowling_t20is_econ,bowling_t20is_sr,bowling_t20is_4w,bowling_t20is_5w,bowling_t20is_10,bowling_first_class_mat,bowling_first_class_inns,bowling_first_class_balls,bowling_first_class_runs,bowling_first_class_wkts,bowling_first_class_bbi,bowling_first_class_bbm,bowling_first_class_ave,bowling_first_class_econ,bowling_first_class_sr,bowling_first_class_4w,bowling_first_class_5w,bowling_first_class_10,bowling_list_a_mat,bowling_list_a_inns,bowling_list_a_balls,bowling_list_a_runs,bowling_list_a_wkts,bowling_list_a_bbi,bowling_list_a_bbm,bowling_list_a_ave,bowling_list_a_econ,bowling_list_a_sr,bowling_list_a_4w,bowling_list_a_5w,bowling_list_a_10,bowling_t20s_mat,bowling_t20s_inns,bowling_t20s_balls,bowling_t20s_runs,bowling_t20s_wkts,bowling_t20s_bbi,bowling_t20s_bbm,bowling_t20s_ave,bowling_t20s_econ,bowling_t20s_sr,bowling_t20s_4w,bowling_t20s_5w,bowling_t20s_10\"\n\n# Read the CSV file and into a DataFrame\nplayer_info_raw = spark.read.csv(player_info_input_file_s3_path, header=True, inferSchema=True)\n\n# Use the custom header\nplayer_info_raw = player_info_raw.toDF(*player_info_header_clean.split(','))\n\n# Show the dataframe\nplayer_info_raw.show(5)",
			"metadata": {
				"trusted": true
			},
			"execution_count": 8,
			"outputs": [
				{
					"name": "stdout",
					"text": "+-----+------+----------------+-------+--------------------+----------+--------------------+-----+-------------+---+--------------------+--------------+--------------------+-----+------+-----------------+------------------+----------------+------------------+----------------+-----------------+----------------+----------------+-----------------+----------------+----------------+----------------+----------------+----------------+----------------+-----------------+---------------+-----------------+---------------+----------------+---------------+---------------+----------------+---------------+---------------+---------------+---------------+---------------+-----------------+------------------+----------------+------------------+----------------+-----------------+----------------+----------------+-----------------+----------------+----------------+----------------+----------------+----------------+-----------------------+------------------------+----------------------+------------------------+----------------------+-----------------------+----------------------+----------------------+-----------------------+----------------------+----------------------+----------------------+----------------------+----------------------+------------------+-------------------+-----------------+-------------------+-----------------+------------------+-----------------+-----------------+------------------+-----------------+-----------------+-----------------+-----------------+-----------------+----------------+-----------------+---------------+-----------------+---------------+----------------+---------------+---------------+----------------+---------------+---------------+---------------+---------------+---------------+-----------------+------------------+-------------------+------------------+------------------+-----------------+-----------------+-----------------+------------------+----------------+----------------+----------------+----------------+----------------+-----------------+------------------+-----------------+-----------------+----------------+----------------+----------------+-----------------+---------------+---------------+---------------+---------------+-----------------+------------------+-------------------+------------------+------------------+-----------------+-----------------+-----------------+------------------+----------------+----------------+----------------+----------------+-----------------------+------------------------+-------------------------+------------------------+------------------------+-----------------------+-----------------------+-----------------------+------------------------+----------------------+----------------------+----------------------+----------------------+------------------+-------------------+--------------------+-------------------+-------------------+------------------+------------------+------------------+-------------------+-----------------+-----------------+-----------------+-----------------+----------------+-----------------+------------------+-----------------+-----------------+----------------+----------------+----------------+-----------------+---------------+---------------+---------------+---------------+\n|index|    id|            name|country|           full_name| birthdate|          birthplace| died|date_of_death|age|         major_teams| batting_style|       bowling_style|other|awards|batting_tests_mat|batting_tests_inns|batting_tests_no|batting_tests_runs|batting_tests_hs|batting_tests_ave|batting_tests_bf|batting_tests_sr|batting_tests_100|batting_tests_50|batting_tests_4s|batting_tests_6s|batting_tests_ct|batting_tests_st|batting_odis_mat|batting_odis_inns|batting_odis_no|batting_odis_runs|batting_odis_hs|batting_odis_ave|batting_odis_bf|batting_odis_sr|batting_odis_100|batting_odis_50|batting_odis_4s|batting_odis_6s|batting_odis_ct|batting_odis_st|batting_t20is_mat|batting_t20is_inns|batting_t20is_no|batting_t20is_runs|batting_t20is_hs|batting_t20is_ave|batting_t20is_bf|batting_t20is_sr|batting_t20is_100|batting_t20is_50|batting_t20is_4s|batting_t20is_6s|batting_t20is_ct|batting_t20is_st|batting_first_class_mat|batting_first_class_inns|batting_first_class_no|batting_first_class_runs|batting_first_class_hs|batting_first_class_ave|batting_first_class_bf|batting_first_class_sr|batting_first_class_100|batting_first_class_50|batting_first_class_4s|batting_first_class_6s|batting_first_class_ct|batting_first_class_st|batting_list_a_mat|batting_list_a_inns|batting_list_a_no|batting_list_a_runs|batting_list_a_hs|batting_list_a_ave|batting_list_a_bf|batting_list_a_sr|batting_list_a_100|batting_list_a_50|batting_list_a_4s|batting_list_a_6s|batting_list_a_ct|batting_list_a_st|batting_t20s_mat|batting_t20s_inns|batting_t20s_no|batting_t20s_runs|batting_t20s_hs|batting_t20s_ave|batting_t20s_bf|batting_t20s_sr|batting_t20s_100|batting_t20s_50|batting_t20s_4s|batting_t20s_6s|batting_t20s_ct|batting_t20s_st|bowling_tests_mat|bowling_tests_inns|bowling_tests_balls|bowling_tests_runs|bowling_tests_wkts|bowling_tests_bbi|bowling_tests_bbm|bowling_tests_ave|bowling_tests_econ|bowling_tests_sr|bowling_tests_4w|bowling_tests_5w|bowling_tests_10|bowling_odis_mat|bowling_odis_inns|bowling_odis_balls|bowling_odis_runs|bowling_odis_wkts|bowling_odis_bbi|bowling_odis_bbm|bowling_odis_ave|bowling_odis_econ|bowling_odis_sr|bowling_odis_4w|bowling_odis_5w|bowling_odis_10|bowling_t20is_mat|bowling_t20is_inns|bowling_t20is_balls|bowling_t20is_runs|bowling_t20is_wkts|bowling_t20is_bbi|bowling_t20is_bbm|bowling_t20is_ave|bowling_t20is_econ|bowling_t20is_sr|bowling_t20is_4w|bowling_t20is_5w|bowling_t20is_10|bowling_first_class_mat|bowling_first_class_inns|bowling_first_class_balls|bowling_first_class_runs|bowling_first_class_wkts|bowling_first_class_bbi|bowling_first_class_bbm|bowling_first_class_ave|bowling_first_class_econ|bowling_first_class_sr|bowling_first_class_4w|bowling_first_class_5w|bowling_first_class_10|bowling_list_a_mat|bowling_list_a_inns|bowling_list_a_balls|bowling_list_a_runs|bowling_list_a_wkts|bowling_list_a_bbi|bowling_list_a_bbm|bowling_list_a_ave|bowling_list_a_econ|bowling_list_a_sr|bowling_list_a_4w|bowling_list_a_5w|bowling_list_a_10|bowling_t20s_mat|bowling_t20s_inns|bowling_t20s_balls|bowling_t20s_runs|bowling_t20s_wkts|bowling_t20s_bbi|bowling_t20s_bbm|bowling_t20s_ave|bowling_t20s_econ|bowling_t20s_sr|bowling_t20s_4w|bowling_t20s_5w|bowling_t20s_10|\n+-----+------+----------------+-------+--------------------+----------+--------------------+-----+-------------+---+--------------------+--------------+--------------------+-----+------+-----------------+------------------+----------------+------------------+----------------+-----------------+----------------+----------------+-----------------+----------------+----------------+----------------+----------------+----------------+----------------+-----------------+---------------+-----------------+---------------+----------------+---------------+---------------+----------------+---------------+---------------+---------------+---------------+---------------+-----------------+------------------+----------------+------------------+----------------+-----------------+----------------+----------------+-----------------+----------------+----------------+----------------+----------------+----------------+-----------------------+------------------------+----------------------+------------------------+----------------------+-----------------------+----------------------+----------------------+-----------------------+----------------------+----------------------+----------------------+----------------------+----------------------+------------------+-------------------+-----------------+-------------------+-----------------+------------------+-----------------+-----------------+------------------+-----------------+-----------------+-----------------+-----------------+-----------------+----------------+-----------------+---------------+-----------------+---------------+----------------+---------------+---------------+----------------+---------------+---------------+---------------+---------------+---------------+-----------------+------------------+-------------------+------------------+------------------+-----------------+-----------------+-----------------+------------------+----------------+----------------+----------------+----------------+----------------+-----------------+------------------+-----------------+-----------------+----------------+----------------+----------------+-----------------+---------------+---------------+---------------+---------------+-----------------+------------------+-------------------+------------------+------------------+-----------------+-----------------+-----------------+------------------+----------------+----------------+----------------+----------------+-----------------------+------------------------+-------------------------+------------------------+------------------------+-----------------------+-----------------------+-----------------------+------------------------+----------------------+----------------------+----------------------+----------------------+------------------+-------------------+--------------------+-------------------+-------------------+------------------+------------------+------------------+-------------------+-----------------+-----------------+-----------------+-----------------+----------------+-----------------+------------------+-----------------+-----------------+----------------+----------------+----------------+-----------------+---------------+---------------+---------------+---------------+\n|    0|  8772|    Henry Arkell|England|Henry John Denham...|1898-06-26| Edmonton, Middlesex| Dead|     12/03/82| 84|    Northamptonshire|Right-hand bat|                null| null|    []|             null|              null|            null|              null|            null|             null|            null|            null|             null|            null|            null|            null|            null|            null|            null|             null|           null|             null|           null|            null|           null|           null|            null|           null|           null|           null|           null|           null|             null|              null|            null|              null|            null|             null|            null|            null|             null|            null|            null|            null|            null|            null|                      2|                     2.0|                     0|                    11.0|                     6|                    5.5|                  null|                  null|                      0|                   0.0|                  null|                  null|                     0|                   0.0|              null|               null|             null|               null|             null|              null|             null|             null|              null|             null|             null|             null|             null|             null|            null|             null|           null|             null|           null|            null|           null|           null|            null|           null|           null|           null|           null|           null|             null|              null|               null|              null|              null|             null|             null|             null|              null|            null|            null|            null|            null|            null|             null|              null|             null|             null|            null|            null|            null|             null|           null|           null|           null|           null|             null|              null|               null|              null|              null|             null|             null|             null|              null|            null|            null|            null|            null|                      2|                    null|                     null|                    null|                    null|                   null|                   null|                   null|                    null|                  null|                  null|                  null|                  null|              null|               null|                null|               null|               null|              null|              null|              null|               null|             null|             null|             null|             null|            null|             null|              null|             null|             null|            null|            null|            null|             null|           null|           null|           null|           null|\n|    1|532565|   Richard Nyren|England|       Richard Nyren|1734-04-25|     Eartham, Sussex| Dead|   1797-04-25| 63|        Hampshire XI| Left-hand bat|Left-arm bowler (...| null|    []|             null|              null|            null|              null|            null|             null|            null|            null|             null|            null|            null|            null|            null|            null|            null|             null|           null|             null|           null|            null|           null|           null|            null|           null|           null|           null|           null|           null|             null|              null|            null|              null|            null|             null|            null|            null|             null|            null|            null|            null|            null|            null|                     49|                    90.0|                    11|                  1026.0|                    97|                  12.98|                  null|                  null|                      0|                   2.0|                  null|                  null|                    24|                   0.0|              null|               null|             null|               null|             null|              null|             null|             null|              null|             null|             null|             null|             null|             null|            null|             null|           null|             null|           null|            null|           null|           null|            null|           null|           null|           null|           null|           null|             null|              null|               null|              null|              null|             null|             null|             null|              null|            null|            null|            null|            null|            null|             null|              null|             null|             null|            null|            null|            null|             null|           null|           null|           null|           null|             null|              null|               null|              null|              null|             null|             null|             null|              null|            null|            null|            null|            null|                     49|                      57|                       0+|                      0+|                     104|                    5/?|                    6/?|                   null|                    null|                  null|                     7|                     1|                     0|              null|               null|                null|               null|               null|              null|              null|              null|               null|             null|             null|             null|             null|            null|             null|              null|             null|             null|            null|            null|            null|             null|           null|           null|           null|           null|\n|    2| 16856|Sydney Maartensz|England|Sydney Gratien Ad...|1882-04-14|     Colombo, Ceylon| Dead|     10/09/67| 85|           Hampshire|Right-hand bat|                null| null|    []|             null|              null|            null|              null|            null|             null|            null|            null|             null|            null|            null|            null|            null|            null|            null|             null|           null|             null|           null|            null|           null|           null|            null|           null|           null|           null|           null|           null|             null|              null|            null|              null|            null|             null|            null|            null|             null|            null|            null|            null|            null|            null|                     12|                    17.0|                     2|                   283.0|                    60|                  18.86|                  null|                  null|                      0|                   1.0|                  null|                  null|                    21|                   4.0|              null|               null|             null|               null|             null|              null|             null|             null|              null|             null|             null|             null|             null|             null|            null|             null|           null|             null|           null|            null|           null|           null|            null|           null|           null|           null|           null|           null|             null|              null|               null|              null|              null|             null|             null|             null|              null|            null|            null|            null|            null|            null|             null|              null|             null|             null|            null|            null|            null|             null|           null|           null|           null|           null|             null|              null|               null|              null|              null|             null|             null|             null|              null|            null|            null|            null|            null|                     12|                    null|                     null|                    null|                    null|                   null|                   null|                   null|                    null|                  null|                  null|                  null|                  null|              null|               null|                null|               null|               null|              null|              null|              null|               null|             null|             null|             null|             null|            null|             null|              null|             null|             null|            null|            null|            null|             null|           null|           null|           null|           null|\n|    3| 16715|    Brian Lander|England|Brian Richard Lander|  09/01/42|Bishop Auckland, ...|Alive|         null| 77|['Durham,', 'Mino...|Right-hand bat|    Right-arm medium| null|    []|             null|              null|            null|              null|            null|             null|            null|            null|             null|            null|            null|            null|            null|            null|            null|             null|           null|             null|           null|            null|           null|           null|            null|           null|           null|           null|           null|           null|             null|              null|            null|              null|            null|             null|            null|            null|             null|            null|            null|            null|            null|            null|                   null|                    null|                  null|                    null|                  null|                   null|                  null|                  null|                   null|                  null|                  null|                  null|                  null|                  null|                26|                 21|                3|              122.0|               28|              6.77|             null|             null|                 0|              0.0|             null|             null|                2|              0.0|            null|             null|           null|             null|           null|            null|           null|           null|            null|           null|           null|           null|           null|           null|             null|              null|               null|              null|              null|             null|             null|             null|              null|            null|            null|            null|            null|            null|             null|              null|             null|             null|            null|            null|            null|             null|           null|           null|           null|           null|             null|              null|               null|              null|              null|             null|             null|             null|              null|            null|            null|            null|            null|                   null|                    null|                     null|                    null|                    null|                   null|                   null|                   null|                    null|                  null|                  null|                  null|                  null|                26|               null|                1402|                859|                 25|            May-15|            May-15|             34.36|               3.67|               56|                0|                1|                0|            null|             null|              null|             null|             null|            null|            null|            null|             null|           null|           null|           null|           null|\n|    4| 15989|Derek Kenderdine|England|Derek Charles Ken...|1897-10-28|   Chislehurst, Kent| Dead|     28/08/47| 50|          Royal Navy|Right-hand bat|Right-arm medium-...| null|    []|             null|              null|            null|              null|            null|             null|            null|            null|             null|            null|            null|            null|            null|            null|            null|             null|           null|             null|           null|            null|           null|           null|            null|           null|           null|           null|           null|           null|             null|              null|            null|              null|            null|             null|            null|            null|             null|            null|            null|            null|            null|            null|                      2|                     4.0|                     1|                     7.0|                     6|                   2.33|                  null|                  null|                      0|                   0.0|                  null|                  null|                     1|                   0.0|              null|               null|             null|               null|             null|              null|             null|             null|              null|             null|             null|             null|             null|             null|            null|             null|           null|             null|           null|            null|           null|           null|            null|           null|           null|           null|           null|           null|             null|              null|               null|              null|              null|             null|             null|             null|              null|            null|            null|            null|            null|            null|             null|              null|             null|             null|            null|            null|            null|             null|           null|           null|           null|           null|             null|              null|               null|              null|              null|             null|             null|             null|              null|            null|            null|            null|            null|                      2|                    null|                      198|                     121|                       2|                 Jan-46|                   null|                   60.5|                    3.66|                    99|                  null|                     0|                     0|              null|               null|                null|               null|               null|              null|              null|              null|               null|             null|             null|             null|             null|            null|             null|              null|             null|             null|            null|            null|            null|             null|           null|           null|           null|           null|\n+-----+------+----------------+-------+--------------------+----------+--------------------+-----+-------------+---+--------------------+--------------+--------------------+-----+------+-----------------+------------------+----------------+------------------+----------------+-----------------+----------------+----------------+-----------------+----------------+----------------+----------------+----------------+----------------+----------------+-----------------+---------------+-----------------+---------------+----------------+---------------+---------------+----------------+---------------+---------------+---------------+---------------+---------------+-----------------+------------------+----------------+------------------+----------------+-----------------+----------------+----------------+-----------------+----------------+----------------+----------------+----------------+----------------+-----------------------+------------------------+----------------------+------------------------+----------------------+-----------------------+----------------------+----------------------+-----------------------+----------------------+----------------------+----------------------+----------------------+----------------------+------------------+-------------------+-----------------+-------------------+-----------------+------------------+-----------------+-----------------+------------------+-----------------+-----------------+-----------------+-----------------+-----------------+----------------+-----------------+---------------+-----------------+---------------+----------------+---------------+---------------+----------------+---------------+---------------+---------------+---------------+---------------+-----------------+------------------+-------------------+------------------+------------------+-----------------+-----------------+-----------------+------------------+----------------+----------------+----------------+----------------+----------------+-----------------+------------------+-----------------+-----------------+----------------+----------------+----------------+-----------------+---------------+---------------+---------------+---------------+-----------------+------------------+-------------------+------------------+------------------+-----------------+-----------------+-----------------+------------------+----------------+----------------+----------------+----------------+-----------------------+------------------------+-------------------------+------------------------+------------------------+-----------------------+-----------------------+-----------------------+------------------------+----------------------+----------------------+----------------------+----------------------+------------------+-------------------+--------------------+-------------------+-------------------+------------------+------------------+------------------+-------------------+-----------------+-----------------+-----------------+-----------------+----------------+-----------------+------------------+-----------------+-----------------+----------------+----------------+----------------+-----------------+---------------+---------------+---------------+---------------+\nonly showing top 5 rows\n",
					"output_type": "stream"
				}
			]
		},
		{
			"cell_type": "markdown",
			"source": "Check the schema",
			"metadata": {}
		},
		{
			"cell_type": "markdown",
			"source": "Loading the dataframe to lake",
			"metadata": {}
		},
		{
			"cell_type": "code",
			"source": "player_info_raw.write.format(\"parquet\").mode(\"overwrite\").save(f\"{bronze_database_loc}/{player_info_table_name}\")",
			"metadata": {
				"trusted": true
			},
			"execution_count": 12,
			"outputs": [
				{
					"name": "stdout",
					"text": "\n",
					"output_type": "stream"
				}
			]
		},
		{
			"cell_type": "markdown",
			"source": "# ********************************************************************\n# Relational database example - Loading tablle from MySQL DB to lake/silver layer\n# ********************************************************************",
			"metadata": {}
		},
		{
			"cell_type": "markdown",
			"source": "Reading deliveries from mysql",
			"metadata": {}
		},
		{
			"cell_type": "code",
			"source": "deliveries_df = read_from_mysql(host, port, user, password, mssql_database, mssql_table)\ndeliveries_df.show()",
			"metadata": {
				"trusted": true
			},
			"execution_count": 17,
			"outputs": [
				{
					"name": "stdout",
					"text": "+--------+------+--------------------+--------------------+----+----+--------------+--------------+------------+-------------+---------+--------+-----------+-----------+------------+------------+----------+----------+----------------+--------------+-------+\n|match_id|inning|        batting_team|        bowling_team|over|ball|       batsman|   non_striker|      bowler|is_super_over|wide_runs|bye_runs|legbye_runs|noball_runs|penalty_runs|batsman_runs|extra_runs|total_runs|player_dismissed|dismissal_kind|fielder|\n+--------+------+--------------------+--------------------+----+----+--------------+--------------+------------+-------------+---------+--------+-----------+-----------+------------+------------+----------+----------+----------------+--------------+-------+\n|     187|     2|Kolkata Knight Ri...|    Rajasthan Royals|  11|   6|    SC Ganguly|      BJ Hodge|  SK Trivedi|            0|        0|       0|          0|          0|           0|           0|         0|         0|            null|          null|   null|\n|     187|     2|Kolkata Knight Ri...|    Rajasthan Royals|  12|   1|      BJ Hodge|    SC Ganguly|    SK Warne|            0|        0|       0|          0|          0|           0|           1|         0|         1|            null|          null|   null|\n|     187|     2|Kolkata Knight Ri...|    Rajasthan Royals|  12|   2|    SC Ganguly|      BJ Hodge|    SK Warne|            0|        0|       0|          1|          0|           0|           0|         1|         1|            null|          null|   null|\n|     187|     2|Kolkata Knight Ri...|    Rajasthan Royals|  12|   3|      BJ Hodge|    SC Ganguly|    SK Warne|            0|        0|       0|          0|          0|           0|           0|         0|         0|            null|          null|   null|\n|     566|     2|Royal Challengers...|     Kings XI Punjab|   4|   1|      CH Gayle|AB de Villiers|    R Dhawan|            0|        0|       0|          0|          0|           0|           1|         0|         1|            null|          null|   null|\n|     187|     2|Kolkata Knight Ri...|    Rajasthan Royals|  12|   4|      BJ Hodge|    SC Ganguly|    SK Warne|            0|        0|       0|          0|          0|           0|           4|         0|         4|            null|          null|   null|\n|     377|     1|    Rajasthan Royals|      Mumbai Indians|  12|   6|       OA Shah|     SR Watson|  KA Pollard|            0|        0|       0|          0|          0|           0|           1|         0|         1|            null|          null|   null|\n|     566|     2|Royal Challengers...|     Kings XI Punjab|   4|   2|AB de Villiers|      CH Gayle|    R Dhawan|            0|        0|       0|          0|          0|           0|           1|         0|         1|            null|          null|   null|\n|     187|     2|Kolkata Knight Ri...|    Rajasthan Royals|  12|   5|      BJ Hodge|    SC Ganguly|    SK Warne|            0|        0|       0|          0|          0|           0|           1|         0|         1|            null|          null|   null|\n|     377|     1|    Rajasthan Royals|      Mumbai Indians|  13|   1|       OA Shah|     SR Watson|JEC Franklin|            0|        0|       0|          0|          0|           0|           0|         0|         0|            null|          null|   null|\n|     566|     2|Royal Challengers...|     Kings XI Punjab|   4|   3|      CH Gayle|AB de Villiers|    R Dhawan|            0|        0|       0|          0|          0|           0|           1|         0|         1|            null|          null|   null|\n|     187|     2|Kolkata Knight Ri...|    Rajasthan Royals|  12|   6|    SC Ganguly|      BJ Hodge|    SK Warne|            0|        0|       0|          0|          0|           0|           0|         0|         0|            null|          null|   null|\n|     377|     1|    Rajasthan Royals|      Mumbai Indians|  13|   2|       OA Shah|     SR Watson|JEC Franklin|            0|        0|       0|          0|          0|           0|           1|         0|         1|            null|          null|   null|\n|     566|     2|Royal Challengers...|     Kings XI Punjab|   4|   4|AB de Villiers|      CH Gayle|    R Dhawan|            0|        0|       0|          0|          0|           0|           1|         0|         1|            null|          null|   null|\n|       1|     1| Sunrisers Hyderabad|Royal Challengers...|   1|   1|     DA Warner|      S Dhawan|    TS Mills|            0|        0|       0|          0|          0|           0|           0|         0|         0|            null|          null|   null|\n|     187|     2|Kolkata Knight Ri...|    Rajasthan Royals|  13|   1|      BJ Hodge|    SC Ganguly|   YK Pathan|            0|        0|       0|          0|          0|           0|           1|         0|         1|            null|          null|   null|\n|     377|     1|    Rajasthan Royals|      Mumbai Indians|  13|   3|     SR Watson|       OA Shah|JEC Franklin|            0|        0|       0|          0|          0|           0|           1|         0|         1|            null|          null|   null|\n|     566|     2|Royal Challengers...|     Kings XI Punjab|   4|   5|      CH Gayle|AB de Villiers|    R Dhawan|            0|        0|       0|          0|          0|           0|           1|         0|         1|            null|          null|   null|\n|     187|     2|Kolkata Knight Ri...|    Rajasthan Royals|  13|   2|    SC Ganguly|      BJ Hodge|   YK Pathan|            0|        0|       0|          0|          0|           0|           0|         0|         0|            null|          null|   null|\n|       1|     1| Sunrisers Hyderabad|Royal Challengers...|   1|   2|     DA Warner|      S Dhawan|    TS Mills|            0|        0|       0|          0|          0|           0|           0|         0|         0|            null|          null|   null|\n+--------+------+--------------------+--------------------+----+----+--------------+--------------+------------+-------------+---------+--------+-----------+-----------+------------+------------+----------+----------+----------------+--------------+-------+\nonly showing top 20 rows\n",
					"output_type": "stream"
				}
			]
		},
		{
			"cell_type": "markdown",
			"source": "Storing deliveries in lake",
			"metadata": {}
		},
		{
			"cell_type": "code",
			"source": "deliveries_df.write.format(\"parquet\").mode(\"overwrite\").save(f\"{bronze_database_loc}/{deliveries_table_name}\")",
			"metadata": {
				"trusted": true
			},
			"execution_count": 23,
			"outputs": [
				{
					"name": "stdout",
					"text": "\n",
					"output_type": "stream"
				}
			]
		},
		{
			"cell_type": "markdown",
			"source": "# ********************************************************************\n# NOSQL ingestion example - Loading DynamoDB Table in s3 to lake/silver layer\n# ********************************************************************",
			"metadata": {}
		},
		{
			"cell_type": "markdown",
			"source": "Loading matches from dynamodb",
			"metadata": {}
		},
		{
			"cell_type": "code",
			"source": "matches_df = read_from_dynamodb(macthes_dynamodb_table_name)\nmatches_df.show()",
			"metadata": {
				"trusted": true
			},
			"execution_count": 20,
			"outputs": [
				{
					"name": "stdout",
					"text": "+-------------+--------------------+----------+----------------+--------------------+--------+------+--------------+--------------+-----------+----------+---------------+-----+----------+--------------------+--------------------+--------------------+--------------------+\n|toss_decision|              winner|      city| player_of_match|             umpire3|  Season|result|       umpire2|win_by_wickets|win_by_runs|dl_applied|        umpire1|   id|      date|               team1|               team2|               venue|         toss_winner|\n+-------------+--------------------+----------+----------------+--------------------+--------+------+--------------+--------------+-----------+----------+---------------+-----+----------+--------------------+--------------------+--------------------+--------------------+\n|        field| Chennai Super Kings|    Mumbai|        SK Raina|                    |IPL-2011|normal|    SJA Taufel|             6|          0|         0|      Asad Rauf|  304|24-05-2011|Royal Challengers...| Chennai Super Kings|    Wankhede Stadium| Chennai Super Kings|\n|        field|Kolkata Knight Ri...|   Kolkata|        UT Yadav|                    |IPL-2015|normal|     M Erasmus|             0|         35|         0|   AK Chaudhary|  555|04-05-2015|Kolkata Knight Ri...| Sunrisers Hyderabad|        Eden Gardens| Sunrisers Hyderabad|\n|        field|      Mumbai Indians|   Chennai|       RG Sharma|     Vineet Kulkarni|IPL-2019|normal|Anil Chaudhary|             0|         46|         0|    Nigel Llong|11335|26-04-2019|      Mumbai Indians| Chennai Super Kings|M. A. Chidambaram...| Chennai Super Kings|\n|          bat| Sunrisers Hyderabad| Hyderabad|     Rashid Khan|Virender Kumar Sh...|IPL-2018|normal|      O Nandan|             7|          0|         0| Bruce Oxenford| 7929|05-05-2018|    Delhi Daredevils| Sunrisers Hyderabad|Rajiv Gandhi Inte...|    Delhi Daredevils|\n|          bat|      Mumbai Indians|     Delhi|      SL Malinga|                    |IPL-2011|normal|     RB Tiffin|             8|          0|         0|      AM Saheba|  238|10-04-2011|    Delhi Daredevils|      Mumbai Indians|    Feroz Shah Kotla|    Delhi Daredevils|\n|        field|Kochi Tuskers Kerala|     Kochi|        BJ Hodge|                    |IPL-2011|normal|     RJ Tucker|             0|         17|         0|         S Ravi|  278|05-05-2011|Kochi Tuskers Kerala|Kolkata Knight Ri...|       Nehru Stadium|Kolkata Knight Ri...|\n|          bat| Chennai Super Kings|    Ranchi|       RA Jadeja|                    |IPL-2014|normal|      NJ Llong|             0|         34|         0|   AK Chaudhary|  478|02-05-2014| Chennai Super Kings|Kolkata Knight Ri...|JSCA Internationa...| Chennai Super Kings|\n|          bat|Kolkata Knight Ri...|     Delhi|       G Gambhir|                    |IPL-2014|normal| C Shamshuddin|             8|          0|         0|   BNJ Oxenford|  485|07-05-2014|    Delhi Daredevils|Kolkata Knight Ri...|    Feroz Shah Kotla|    Delhi Daredevils|\n|          bat|      Mumbai Indians|    Mumbai|      SL Malinga|                    |IPL-2015|normal|   CB Gaffaney|             0|         20|         0|HDPK Dharmasena|  541|25-04-2015|      Mumbai Indians| Sunrisers Hyderabad|    Wankhede Stadium|      Mumbai Indians|\n|        field|Royal Challengers...| Bangalore|        CH Gayle|                    |IPL-2015|normal|   VA Kulkarni|             0|        138|         0| RK Illingworth|  557|06-05-2015|Royal Challengers...|     Kings XI Punjab|M Chinnaswamy Sta...|     Kings XI Punjab|\n|        field|     Kings XI Punjab|Chandigarh|  AD Mascarenhas|                    |IPL-2012|normal|   SK Tarapore|             7|          0|         0|    VA Kulkarni|  321|12-04-2012|       Pune Warriors|     Kings XI Punjab|Punjab Cricket As...|     Kings XI Punjab|\n|        field|Kolkata Knight Ri...| Bangalore|      AD Russell|                    |IPL-2016|normal|        S Ravi|             5|          0|         0|      M Erasmus|  606|02-05-2016|Royal Challengers...|Kolkata Knight Ri...|M Chinnaswamy Sta...|Kolkata Knight Ri...|\n|        field|    Delhi Daredevils| Cape Town|      DL Vettori|                    |IPL-2009|normal|     SD Ranade|            10|          0|         1|      MR Benson|  120|19-04-2009|     Kings XI Punjab|    Delhi Daredevils|            Newlands|    Delhi Daredevils|\n|          bat|     Kings XI Punjab|   Kolkata|DPMD Jayawardene|                    |IPL-2010|normal|     DJ Harper|             8|          0|         0|       S Asnani|  208|04-04-2010|Kolkata Knight Ri...|     Kings XI Punjab|        Eden Gardens|Kolkata Knight Ri...|\n|        field|      Delhi Capitals| Hyderabad|          K Paul|      Chris Gaffaney|IPL-2019|normal|Bruce Oxenford|             0|         39|         0| Anil Chaudhary|11321|14-04-2019|      Delhi Capitals| Sunrisers Hyderabad|Rajiv Gandhi Intl...| Sunrisers Hyderabad|\n|          bat|Kolkata Knight Ri...|   Kolkata|   Shoaib Akhtar|                    |IPL-2008|normal|     IL Howell|             0|         23|         0|      Asad Rauf|   95|13-05-2008|Kolkata Knight Ri...|    Delhi Daredevils|        Eden Gardens|Kolkata Knight Ri...|\n|        field|    Delhi Daredevils|      Pune|       SV Samson|                    |IPL-2017|normal|        S Ravi|             0|         97|         0|    AY Dandekar|    9|11-04-2017|    Delhi Daredevils|Rising Pune Super...|Maharashtra Crick...|Rising Pune Super...|\n|        field|Royal Challengers...| Bangalore|         P Kumar|                    |IPL-2008|normal|    SL Shastri|             0|          3|         0|    BR Doctrove|  111|03-05-2008|Royal Challengers...|     Deccan Chargers|M Chinnaswamy Sta...|     Deccan Chargers|\n|          bat| Chennai Super Kings|     Delhi|      MEK Hussey|                    |IPL-2013|normal|     RJ Tucker|             0|         48|         0|       NJ Llong|  454|21-05-2013| Chennai Super Kings|      Mumbai Indians|    Feroz Shah Kotla| Chennai Super Kings|\n|          bat|     Kings XI Punjab|    Mohali|        CH Gayle|     Vineet Kulkarni|IPL-2018|normal|Anil Chaudhary|             0|         15|         0|    Nigel Llong| 7909|19-04-2018|     Kings XI Punjab| Sunrisers Hyderabad|Punjab Cricket As...|     Kings XI Punjab|\n+-------------+--------------------+----------+----------------+--------------------+--------+------+--------------+--------------+-----------+----------+---------------+-----+----------+--------------------+--------------------+--------------------+--------------------+\nonly showing top 20 rows\n",
					"output_type": "stream"
				}
			]
		},
		{
			"cell_type": "markdown",
			"source": "Loading matches in lake",
			"metadata": {}
		},
		{
			"cell_type": "code",
			"source": "matches_df.write.format(\"parquet\").mode(\"overwrite\").save(f\"{bronze_database_loc}/{matches_table_name}\")",
			"metadata": {
				"trusted": true
			},
			"execution_count": 21,
			"outputs": [
				{
					"name": "stdout",
					"text": "\n",
					"output_type": "stream"
				}
			]
		},
		{
			"cell_type": "markdown",
			"source": "## Creating crawlers to generate metadata for ingested lake tables",
			"metadata": {}
		},
		{
			"cell_type": "code",
			"source": "bronze_tables_to_load = {player_info_table_name:player_info_raw,\n                        deliveries_table_name:deliveries_df,\n                        matches_table_name:matches_df}\n\ncrawl_tables(glue_client, bronze_tables_to_load, bronze_database_loc, bronze_database_name)",
			"metadata": {
				"trusted": true
			},
			"execution_count": 23,
			"outputs": [
				{
					"name": "stdout",
					"text": "\n",
					"output_type": "stream"
				}
			]
		},
		{
			"cell_type": "markdown",
			"source": "# ********************************************************************\n# Verifying lake ingestion\n# ********************************************************************",
			"metadata": {}
		},
		{
			"cell_type": "code",
			"source": "loaded_player_info_dyf = glueContext.create_dynamic_frame.from_catalog(database=bronze_database_name, table_name=player_info_table_name)\nloaded_deliveries_dyf = glueContext.create_dynamic_frame.from_catalog(database=bronze_database_name, table_name=deliveries_table_name)\nloaded_matches_dyf = glueContext.create_dynamic_frame.from_catalog(database=bronze_database_name, table_name=matches_table_name)\n\n# Convert the dynamic frame to a Spark DataFrame\nlplayerinfo_df = loaded_player_info_dyf.toDF()\nldeliveries_df = loaded_deliveries_dyf.toDF()\nlmatches_df = loaded_matches_dyf.toDF()",
			"metadata": {
				"trusted": true
			},
			"execution_count": 8,
			"outputs": [
				{
					"name": "stdout",
					"text": "\n",
					"output_type": "stream"
				}
			]
		},
		{
			"cell_type": "markdown",
			"source": "# For player info",
			"metadata": {}
		},
		{
			"cell_type": "code",
			"source": "lplayerinfo_df.count()",
			"metadata": {
				"trusted": true
			},
			"execution_count": 10,
			"outputs": [
				{
					"name": "stdout",
					"text": "90308\n",
					"output_type": "stream"
				}
			]
		},
		{
			"cell_type": "code",
			"source": "lplayerinfo_df.printSchema()",
			"metadata": {
				"trusted": true
			},
			"execution_count": 11,
			"outputs": [
				{
					"name": "stdout",
					"text": "root\n |-- index: integer (nullable = true)\n |-- id: integer (nullable = true)\n |-- name: string (nullable = true)\n |-- country: string (nullable = true)\n |-- full_name: string (nullable = true)\n |-- birthdate: string (nullable = true)\n |-- birthplace: string (nullable = true)\n |-- died: string (nullable = true)\n |-- date_of_death: string (nullable = true)\n |-- age: integer (nullable = true)\n |-- major_teams: string (nullable = true)\n |-- batting_style: string (nullable = true)\n |-- bowling_style: string (nullable = true)\n |-- other: string (nullable = true)\n |-- awards: string (nullable = true)\n |-- batting_tests_mat: string (nullable = true)\n |-- batting_tests_inns: string (nullable = true)\n |-- batting_tests_no: string (nullable = true)\n |-- batting_tests_runs: string (nullable = true)\n |-- batting_tests_hs: string (nullable = true)\n |-- batting_tests_ave: string (nullable = true)\n |-- batting_tests_bf: string (nullable = true)\n |-- batting_tests_sr: string (nullable = true)\n |-- batting_tests_100: string (nullable = true)\n |-- batting_tests_50: string (nullable = true)\n |-- batting_tests_4s: string (nullable = true)\n |-- batting_tests_6s: string (nullable = true)\n |-- batting_tests_ct: string (nullable = true)\n |-- batting_tests_st: string (nullable = true)\n |-- batting_odis_mat: string (nullable = true)\n |-- batting_odis_inns: string (nullable = true)\n |-- batting_odis_no: string (nullable = true)\n |-- batting_odis_runs: string (nullable = true)\n |-- batting_odis_hs: string (nullable = true)\n |-- batting_odis_ave: string (nullable = true)\n |-- batting_odis_bf: string (nullable = true)\n |-- batting_odis_sr: string (nullable = true)\n |-- batting_odis_100: string (nullable = true)\n |-- batting_odis_50: string (nullable = true)\n |-- batting_odis_4s: string (nullable = true)\n |-- batting_odis_6s: string (nullable = true)\n |-- batting_odis_ct: string (nullable = true)\n |-- batting_odis_st: string (nullable = true)\n |-- batting_t20is_mat: string (nullable = true)\n |-- batting_t20is_inns: string (nullable = true)\n |-- batting_t20is_no: string (nullable = true)\n |-- batting_t20is_runs: string (nullable = true)\n |-- batting_t20is_hs: string (nullable = true)\n |-- batting_t20is_ave: double (nullable = true)\n |-- batting_t20is_bf: string (nullable = true)\n |-- batting_t20is_sr: double (nullable = true)\n |-- batting_t20is_100: string (nullable = true)\n |-- batting_t20is_50: double (nullable = true)\n |-- batting_t20is_4s: string (nullable = true)\n |-- batting_t20is_6s: double (nullable = true)\n |-- batting_t20is_ct: string (nullable = true)\n |-- batting_t20is_st: double (nullable = true)\n |-- batting_first_class_mat: string (nullable = true)\n |-- batting_first_class_inns: double (nullable = true)\n |-- batting_first_class_no: integer (nullable = true)\n |-- batting_first_class_runs: double (nullable = true)\n |-- batting_first_class_hs: string (nullable = true)\n |-- batting_first_class_ave: string (nullable = true)\n |-- batting_first_class_bf: string (nullable = true)\n |-- batting_first_class_sr: string (nullable = true)\n |-- batting_first_class_100: string (nullable = true)\n |-- batting_first_class_50: double (nullable = true)\n |-- batting_first_class_4s: string (nullable = true)\n |-- batting_first_class_6s: double (nullable = true)\n |-- batting_first_class_ct: string (nullable = true)\n |-- batting_first_class_st: double (nullable = true)\n |-- batting_list_a_mat: integer (nullable = true)\n |-- batting_list_a_inns: string (nullable = true)\n |-- batting_list_a_no: string (nullable = true)\n |-- batting_list_a_runs: double (nullable = true)\n |-- batting_list_a_hs: string (nullable = true)\n |-- batting_list_a_ave: string (nullable = true)\n |-- batting_list_a_bf: string (nullable = true)\n |-- batting_list_a_sr: string (nullable = true)\n |-- batting_list_a_100: string (nullable = true)\n |-- batting_list_a_50: double (nullable = true)\n |-- batting_list_a_4s: string (nullable = true)\n |-- batting_list_a_6s: double (nullable = true)\n |-- batting_list_a_ct: string (nullable = true)\n |-- batting_list_a_st: double (nullable = true)\n |-- batting_t20s_mat: string (nullable = true)\n |-- batting_t20s_inns: double (nullable = true)\n |-- batting_t20s_no: string (nullable = true)\n |-- batting_t20s_runs: double (nullable = true)\n |-- batting_t20s_hs: string (nullable = true)\n |-- batting_t20s_ave: string (nullable = true)\n |-- batting_t20s_bf: string (nullable = true)\n |-- batting_t20s_sr: double (nullable = true)\n |-- batting_t20s_100: string (nullable = true)\n |-- batting_t20s_50: double (nullable = true)\n |-- batting_t20s_4s: string (nullable = true)\n |-- batting_t20s_6s: double (nullable = true)\n |-- batting_t20s_ct: string (nullable = true)\n |-- batting_t20s_st: double (nullable = true)\n |-- bowling_tests_mat: string (nullable = true)\n |-- bowling_tests_inns: double (nullable = true)\n |-- bowling_tests_balls: string (nullable = true)\n |-- bowling_tests_runs: double (nullable = true)\n |-- bowling_tests_wkts: integer (nullable = true)\n |-- bowling_tests_bbi: string (nullable = true)\n |-- bowling_tests_bbm: string (nullable = true)\n |-- bowling_tests_ave: string (nullable = true)\n |-- bowling_tests_econ: string (nullable = true)\n |-- bowling_tests_sr: string (nullable = true)\n |-- bowling_tests_4w: string (nullable = true)\n |-- bowling_tests_5w: string (nullable = true)\n |-- bowling_tests_10: string (nullable = true)\n |-- bowling_odis_mat: string (nullable = true)\n |-- bowling_odis_inns: string (nullable = true)\n |-- bowling_odis_balls: string (nullable = true)\n |-- bowling_odis_runs: string (nullable = true)\n |-- bowling_odis_wkts: string (nullable = true)\n |-- bowling_odis_bbi: string (nullable = true)\n |-- bowling_odis_bbm: string (nullable = true)\n |-- bowling_odis_ave: string (nullable = true)\n |-- bowling_odis_econ: string (nullable = true)\n |-- bowling_odis_sr: string (nullable = true)\n |-- bowling_odis_4w: string (nullable = true)\n |-- bowling_odis_5w: string (nullable = true)\n |-- bowling_odis_10: string (nullable = true)\n |-- bowling_t20is_mat: string (nullable = true)\n |-- bowling_t20is_inns: string (nullable = true)\n |-- bowling_t20is_balls: string (nullable = true)\n |-- bowling_t20is_runs: string (nullable = true)\n |-- bowling_t20is_wkts: string (nullable = true)\n |-- bowling_t20is_bbi: string (nullable = true)\n |-- bowling_t20is_bbm: string (nullable = true)\n |-- bowling_t20is_ave: string (nullable = true)\n |-- bowling_t20is_econ: string (nullable = true)\n |-- bowling_t20is_sr: string (nullable = true)\n |-- bowling_t20is_4w: string (nullable = true)\n |-- bowling_t20is_5w: string (nullable = true)\n |-- bowling_t20is_10: string (nullable = true)\n |-- bowling_first_class_mat: string (nullable = true)\n |-- bowling_first_class_inns: string (nullable = true)\n |-- bowling_first_class_balls: string (nullable = true)\n |-- bowling_first_class_runs: string (nullable = true)\n |-- bowling_first_class_wkts: string (nullable = true)\n |-- bowling_first_class_bbi: string (nullable = true)\n |-- bowling_first_class_bbm: string (nullable = true)\n |-- bowling_first_class_ave: string (nullable = true)\n |-- bowling_first_class_econ: string (nullable = true)\n |-- bowling_first_class_sr: string (nullable = true)\n |-- bowling_first_class_4w: string (nullable = true)\n |-- bowling_first_class_5w: string (nullable = true)\n |-- bowling_first_class_10: string (nullable = true)\n |-- bowling_list_a_mat: string (nullable = true)\n |-- bowling_list_a_inns: string (nullable = true)\n |-- bowling_list_a_balls: string (nullable = true)\n |-- bowling_list_a_runs: string (nullable = true)\n |-- bowling_list_a_wkts: string (nullable = true)\n |-- bowling_list_a_bbi: string (nullable = true)\n |-- bowling_list_a_bbm: string (nullable = true)\n |-- bowling_list_a_ave: string (nullable = true)\n |-- bowling_list_a_econ: string (nullable = true)\n |-- bowling_list_a_sr: string (nullable = true)\n |-- bowling_list_a_4w: string (nullable = true)\n |-- bowling_list_a_5w: string (nullable = true)\n |-- bowling_list_a_10: string (nullable = true)\n |-- bowling_t20s_mat: string (nullable = true)\n |-- bowling_t20s_inns: string (nullable = true)\n |-- bowling_t20s_balls: string (nullable = true)\n |-- bowling_t20s_runs: string (nullable = true)\n |-- bowling_t20s_wkts: string (nullable = true)\n |-- bowling_t20s_bbi: string (nullable = true)\n |-- bowling_t20s_bbm: string (nullable = true)\n |-- bowling_t20s_ave: string (nullable = true)\n |-- bowling_t20s_econ: string (nullable = true)\n |-- bowling_t20s_sr: string (nullable = true)\n |-- bowling_t20s_4w: string (nullable = true)\n |-- bowling_t20s_5w: string (nullable = true)\n |-- bowling_t20s_10: string (nullable = true)\n",
					"output_type": "stream"
				}
			]
		},
		{
			"cell_type": "markdown",
			"source": "# For deliveries",
			"metadata": {}
		},
		{
			"cell_type": "code",
			"source": "ldeliveries_df.count()",
			"metadata": {
				"trusted": true
			},
			"execution_count": 12,
			"outputs": [
				{
					"name": "stdout",
					"text": "179078\n",
					"output_type": "stream"
				}
			]
		},
		{
			"cell_type": "code",
			"source": "ldeliveries_df.printSchema()",
			"metadata": {
				"trusted": true
			},
			"execution_count": 13,
			"outputs": [
				{
					"name": "stdout",
					"text": "root\n |-- match_id: integer (nullable = true)\n |-- inning: integer (nullable = true)\n |-- batting_team: string (nullable = true)\n |-- bowling_team: string (nullable = true)\n |-- over: integer (nullable = true)\n |-- ball: integer (nullable = true)\n |-- batsman: string (nullable = true)\n |-- non_striker: string (nullable = true)\n |-- bowler: string (nullable = true)\n |-- is_super_over: integer (nullable = true)\n |-- wide_runs: integer (nullable = true)\n |-- bye_runs: integer (nullable = true)\n |-- legbye_runs: integer (nullable = true)\n |-- noball_runs: integer (nullable = true)\n |-- penalty_runs: integer (nullable = true)\n |-- batsman_runs: integer (nullable = true)\n |-- extra_runs: integer (nullable = true)\n |-- total_runs: integer (nullable = true)\n |-- player_dismissed: string (nullable = true)\n |-- dismissal_kind: string (nullable = true)\n |-- fielder: string (nullable = true)\n",
					"output_type": "stream"
				}
			]
		},
		{
			"cell_type": "code",
			"source": "# For matches",
			"metadata": {
				"trusted": true
			},
			"execution_count": 11,
			"outputs": []
		},
		{
			"cell_type": "code",
			"source": "lmatches_df.count()",
			"metadata": {
				"trusted": true
			},
			"execution_count": 14,
			"outputs": [
				{
					"name": "stdout",
					"text": "756\n",
					"output_type": "stream"
				}
			]
		},
		{
			"cell_type": "code",
			"source": "lmatches_df.printSchema()",
			"metadata": {
				"trusted": true
			},
			"execution_count": 15,
			"outputs": [
				{
					"name": "stdout",
					"text": "root\n |-- toss_decision: string (nullable = true)\n |-- winner: string (nullable = true)\n |-- city: string (nullable = true)\n |-- player_of_match: string (nullable = true)\n |-- umpire3: string (nullable = true)\n |-- Season: string (nullable = true)\n |-- result: string (nullable = true)\n |-- umpire2: string (nullable = true)\n |-- win_by_wickets: long (nullable = true)\n |-- win_by_runs: long (nullable = true)\n |-- dl_applied: long (nullable = true)\n |-- umpire1: string (nullable = true)\n |-- id: long (nullable = true)\n |-- date: string (nullable = true)\n |-- team1: string (nullable = true)\n |-- team2: string (nullable = true)\n |-- venue: string (nullable = true)\n |-- toss_winner: string (nullable = true)\n",
					"output_type": "stream"
				}
			]
		}
	]
}