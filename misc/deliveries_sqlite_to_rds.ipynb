{
	"metadata": {
		"kernelspec": {
			"name": "glue_pyspark",
			"display_name": "Glue PySpark",
			"language": "python"
		},
		"language_info": {
			"name": "Python_Glue_Session",
			"mimetype": "text/x-python",
			"codemirror_mode": {
				"name": "python",
				"version": 3
			},
			"pygments_lexer": "python3",
			"file_extension": ".py"
		}
	},
	"nbformat_minor": 4,
	"nbformat": 4,
	"cells": [
		{
			"cell_type": "markdown",
			"source": "# AWS Glue Studio Notebook\n##### You are now running a AWS Glue Studio notebook; To start using your notebook you need to start an AWS Glue Interactive Session.\n",
			"metadata": {
				"editable": true,
				"trusted": true
			}
		},
		{
			"cell_type": "markdown",
			"source": "#### Optional: Run this cell to see available notebook commands (\"magics\").\n",
			"metadata": {
				"editable": true,
				"trusted": true
			}
		},
		{
			"cell_type": "code",
			"source": "%help",
			"metadata": {
				"editable": true,
				"trusted": true
			},
			"execution_count": null,
			"outputs": []
		},
		{
			"cell_type": "markdown",
			"source": "####  Run this cell to set up and start your interactive session.\n",
			"metadata": {
				"editable": true,
				"trusted": true
			}
		},
		{
			"cell_type": "code",
			"source": "%idle_timeout 100\n%glue_version 3.0\n%worker_type G.1X\n%number_of_workers 2\n\nimport sys\nfrom awsglue.transforms import *\nfrom awsglue.utils import getResolvedOptions\nfrom pyspark.context import SparkContext\nfrom awsglue.context import GlueContext\nfrom awsglue.job import Job\n  \nsc = SparkContext.getOrCreate()\nglueContext = GlueContext(sc)\nspark = glueContext.spark_session\njob = Job(glueContext)",
			"metadata": {
				"editable": true,
				"trusted": true
			},
			"execution_count": 1,
			"outputs": [
				{
					"name": "stdout",
					"text": "Welcome to the Glue Interactive Sessions Kernel\nFor more information on available magic commands, please type %help in any new cell.\n\nPlease view our Getting Started page to access the most up-to-date information on the Interactive Sessions kernel: https://docs.aws.amazon.com/glue/latest/dg/interactive-sessions.html\nInstalled kernel version: 0.37.3 \nCurrent idle_timeout is 2800 minutes.\nidle_timeout has been set to 100 minutes.\nSetting Glue version to: 3.0\nPrevious worker type: G.1X\nSetting new worker type to: G.1X\nPrevious number of workers: 5\nSetting new number of workers to: 2\nAuthenticating with environment variables and user-defined glue_role_arn: arn:aws:iam::687003041478:role/orka-glue-role\nTrying to create a Glue session for the kernel.\nWorker Type: G.1X\nNumber of Workers: 2\nSession ID: a82ae804-f97a-44ef-8b27-bdd0d615a2bc\nJob Type: glueetl\nApplying the following default arguments:\n--glue_kernel_version 0.37.3\n--enable-glue-datacatalog true\nWaiting for session a82ae804-f97a-44ef-8b27-bdd0d615a2bc to get into ready status...\nSession a82ae804-f97a-44ef-8b27-bdd0d615a2bc has been created.\n\n",
					"output_type": "stream"
				}
			]
		},
		{
			"cell_type": "code",
			"source": "import sqlite3\nimport boto3\nimport pandas as pd\n\n# Set your S3 bucket and file path\nbucket_name = 'iplcricketinfo'\nfile_path = 'input_files/IPL_Deliveries.sqlite'\n\n# Initialize the S3 client\ns3 = boto3.client('s3')\n\n# Download the file from S3\ns3.download_file(bucket_name, file_path, '/tmp/IPL_Deliveries.sqlite')\n\n# Perform further processing or analysis on the downloaded file\ncon = sqlite3.connect(\"/tmp/IPL_Deliveries.sqlite\")\n\n# Execute a SQL query and fetch the results into a pandas DataFrame\nquery = \"SELECT * FROM deliveries\"\ndf = pd.read_sql_query(query, con)\n\n# Convert the pandas DataFrame to a Spark DataFrame\nspark_df = spark.createDataFrame(df)\n\n# Perform further processing or analysis on the Spark DataFrame\nspark_df.show()",
			"metadata": {
				"trusted": true
			},
			"execution_count": 2,
			"outputs": [
				{
					"name": "stdout",
					"text": "+--------+------+-------------------+--------------------+----+----+------------+------------+-----------+-------------+---------+--------+-----------+-----------+------------+------------+----------+----------+----------------+--------------+-------------+\n|match_id|inning|       batting_team|        bowling_team|over|ball|     batsman| non_striker|     bowler|is_super_over|wide_runs|bye_runs|legbye_runs|noball_runs|penalty_runs|batsman_runs|extra_runs|total_runs|player_dismissed|dismissal_kind|      fielder|\n+--------+------+-------------------+--------------------+----+----+------------+------------+-----------+-------------+---------+--------+-----------+-----------+------------+------------+----------+----------+----------------+--------------+-------------+\n|       1|     1|Sunrisers Hyderabad|Royal Challengers...|   1|   1|   DA Warner|    S Dhawan|   TS Mills|            0|        0|       0|          0|          0|           0|           0|         0|         0|            null|          null|         null|\n|       1|     1|Sunrisers Hyderabad|Royal Challengers...|   1|   2|   DA Warner|    S Dhawan|   TS Mills|            0|        0|       0|          0|          0|           0|           0|         0|         0|            null|          null|         null|\n|       1|     1|Sunrisers Hyderabad|Royal Challengers...|   1|   3|   DA Warner|    S Dhawan|   TS Mills|            0|        0|       0|          0|          0|           0|           4|         0|         4|            null|          null|         null|\n|       1|     1|Sunrisers Hyderabad|Royal Challengers...|   1|   4|   DA Warner|    S Dhawan|   TS Mills|            0|        0|       0|          0|          0|           0|           0|         0|         0|            null|          null|         null|\n|       1|     1|Sunrisers Hyderabad|Royal Challengers...|   1|   5|   DA Warner|    S Dhawan|   TS Mills|            0|        2|       0|          0|          0|           0|           0|         2|         2|            null|          null|         null|\n|       1|     1|Sunrisers Hyderabad|Royal Challengers...|   1|   6|    S Dhawan|   DA Warner|   TS Mills|            0|        0|       0|          0|          0|           0|           0|         0|         0|            null|          null|         null|\n|       1|     1|Sunrisers Hyderabad|Royal Challengers...|   1|   7|    S Dhawan|   DA Warner|   TS Mills|            0|        0|       0|          1|          0|           0|           0|         1|         1|            null|          null|         null|\n|       1|     1|Sunrisers Hyderabad|Royal Challengers...|   2|   1|    S Dhawan|   DA Warner|A Choudhary|            0|        0|       0|          0|          0|           0|           1|         0|         1|            null|          null|         null|\n|       1|     1|Sunrisers Hyderabad|Royal Challengers...|   2|   2|   DA Warner|    S Dhawan|A Choudhary|            0|        0|       0|          0|          0|           0|           4|         0|         4|            null|          null|         null|\n|       1|     1|Sunrisers Hyderabad|Royal Challengers...|   2|   3|   DA Warner|    S Dhawan|A Choudhary|            0|        0|       0|          0|          1|           0|           0|         1|         1|            null|          null|         null|\n|       1|     1|Sunrisers Hyderabad|Royal Challengers...|   2|   4|   DA Warner|    S Dhawan|A Choudhary|            0|        0|       0|          0|          0|           0|           6|         0|         6|            null|          null|         null|\n|       1|     1|Sunrisers Hyderabad|Royal Challengers...|   2|   5|   DA Warner|    S Dhawan|A Choudhary|            0|        0|       0|          0|          0|           0|           0|         0|         0|       DA Warner|        caught|Mandeep Singh|\n|       1|     1|Sunrisers Hyderabad|Royal Challengers...|   2|   6|MC Henriques|    S Dhawan|A Choudhary|            0|        0|       0|          0|          0|           0|           0|         0|         0|            null|          null|         null|\n|       1|     1|Sunrisers Hyderabad|Royal Challengers...|   2|   7|MC Henriques|    S Dhawan|A Choudhary|            0|        0|       0|          0|          0|           0|           4|         0|         4|            null|          null|         null|\n|       1|     1|Sunrisers Hyderabad|Royal Challengers...|   3|   1|    S Dhawan|MC Henriques|   TS Mills|            0|        0|       0|          0|          0|           0|           1|         0|         1|            null|          null|         null|\n|       1|     1|Sunrisers Hyderabad|Royal Challengers...|   3|   2|MC Henriques|    S Dhawan|   TS Mills|            0|        0|       0|          0|          0|           0|           0|         0|         0|            null|          null|         null|\n|       1|     1|Sunrisers Hyderabad|Royal Challengers...|   3|   3|MC Henriques|    S Dhawan|   TS Mills|            0|        0|       0|          0|          0|           0|           0|         0|         0|            null|          null|         null|\n|       1|     1|Sunrisers Hyderabad|Royal Challengers...|   3|   4|MC Henriques|    S Dhawan|   TS Mills|            0|        0|       0|          0|          0|           0|           3|         0|         3|            null|          null|         null|\n|       1|     1|Sunrisers Hyderabad|Royal Challengers...|   3|   5|    S Dhawan|MC Henriques|   TS Mills|            0|        0|       0|          0|          0|           0|           1|         0|         1|            null|          null|         null|\n|       1|     1|Sunrisers Hyderabad|Royal Challengers...|   3|   6|MC Henriques|    S Dhawan|   TS Mills|            0|        0|       0|          0|          0|           0|           1|         0|         1|            null|          null|         null|\n+--------+------+-------------------+--------------------+----+----+------------+------------+-----------+-------------+---------+--------+-----------+-----------+------------+------------+----------+----------+----------------+--------------+-------------+\nonly showing top 20 rows\n",
					"output_type": "stream"
				}
			]
		},
		{
			"cell_type": "code",
			"source": "# Check the schema\nspark_df.printSchema()",
			"metadata": {
				"trusted": true
			},
			"execution_count": 3,
			"outputs": [
				{
					"name": "stdout",
					"text": "root\n |-- match_id: long (nullable = true)\n |-- inning: long (nullable = true)\n |-- batting_team: string (nullable = true)\n |-- bowling_team: string (nullable = true)\n |-- over: long (nullable = true)\n |-- ball: long (nullable = true)\n |-- batsman: string (nullable = true)\n |-- non_striker: string (nullable = true)\n |-- bowler: string (nullable = true)\n |-- is_super_over: long (nullable = true)\n |-- wide_runs: long (nullable = true)\n |-- bye_runs: long (nullable = true)\n |-- legbye_runs: long (nullable = true)\n |-- noball_runs: long (nullable = true)\n |-- penalty_runs: long (nullable = true)\n |-- batsman_runs: long (nullable = true)\n |-- extra_runs: long (nullable = true)\n |-- total_runs: long (nullable = true)\n |-- player_dismissed: string (nullable = true)\n |-- dismissal_kind: string (nullable = true)\n |-- fielder: string (nullable = true)\n",
					"output_type": "stream"
				}
			]
		},
		{
			"cell_type": "code",
			"source": "from pyspark.sql.types import StringType, LongType\n\n# Define the mapping between Spark SQL types and MySQL types\ntype_mapping = {\n    StringType(): \"TEXT\",\n    LongType(): \"INTEGER\"\n}\n\ntable = \"deliveries\"\n\n# Generate the DDL statement for creating a MySQL table based on the DataFrame schema\nddl = \"CREATE TABLE \"+table+\" (\\n\"\nfor field in spark_df.schema:\n    field_name = field.name\n    field_type = type_mapping.get(field.dataType)\n    ddl += f\"  {field_name} {field_type},\\n\"\nddl = ddl[:-2] + \"\\n)\"  # Remove the trailing comma and newline\n\n# Print the DDL statement\nprint(ddl)",
			"metadata": {
				"trusted": true
			},
			"execution_count": 7,
			"outputs": [
				{
					"name": "stdout",
					"text": "CREATE TABLE deliveries (\n  match_id INTEGER,\n  inning INTEGER,\n  batting_team TEXT,\n  bowling_team TEXT,\n  over INTEGER,\n  ball INTEGER,\n  batsman TEXT,\n  non_striker TEXT,\n  bowler TEXT,\n  is_super_over INTEGER,\n  wide_runs INTEGER,\n  bye_runs INTEGER,\n  legbye_runs INTEGER,\n  noball_runs INTEGER,\n  penalty_runs INTEGER,\n  batsman_runs INTEGER,\n  extra_runs INTEGER,\n  total_runs INTEGER,\n  player_dismissed TEXT,\n  dismissal_kind TEXT,\n  fielder TEXT\n)\n",
					"output_type": "stream"
				}
			]
		},
		{
			"cell_type": "code",
			"source": "import pymysql\n\n# Set your Aurora MySQL database connection details\nhost = 'mydbinstance.ctf19flbptnt.us-east-1.rds.amazonaws.com'\nport = 3306\nuser = 'admin'\npassword = 'MyPassword123'\ndatabase = 'ipl'\n\n# Create a connection to the Aurora MySQL database\nconnection = pymysql.connect(\n    host=host,\n    port=port,\n    user=user,\n    password=password\n)\n\n# Create a cursor\ncursor = connection.cursor()\n\n# Show databases\ncursor.execute(\"SHOW DATABASES\")\nresults=cursor.fetchall()\nfor result in results:\n    print (result)\n    \n# Create the database if it doesn't exist\ncreate_db_query = f\"CREATE DATABASE IF NOT EXISTS {database}\"\ncursor.execute(create_db_query)\n\n# Switch to the specified database\nuse_db_query = f\"USE {database}\"\ncursor.execute(use_db_query)\n\n# Execute the DDL statement\ncursor.execute(ddl)",
			"metadata": {
				"trusted": true
			},
			"execution_count": 9,
			"outputs": [
				{
					"name": "stdout",
					"text": "('information_schema',)\n('innodb',)\n('mysql',)\n('performance_schema',)\n('sys',)\n0\n",
					"output_type": "stream"
				}
			]
		},
		{
			"cell_type": "code",
			"source": "mysql_url = f\"jdbc:mysql://{host}:{port}\"\nmysql_properties = {\n    \"user\": user,\n    \"password\": password,\n    \"driver\": \"com.mysql.jdbc.Driver\"\n}\n\nspark_df.write \\\n    .format(\"jdbc\") \\\n    .option(\"url\", mysql_url) \\\n    .option(\"dbtable\", f\"{database}.{table}\") \\\n    .options(**mysql_properties) \\\n    .mode(\"append\") \\\n    .save()",
			"metadata": {
				"trusted": true
			},
			"execution_count": 11,
			"outputs": [
				{
					"name": "stdout",
					"text": "\n",
					"output_type": "stream"
				}
			]
		}
	]
}